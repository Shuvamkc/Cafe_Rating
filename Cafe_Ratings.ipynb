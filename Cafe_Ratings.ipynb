{
 "cells": [
  {
   "cell_type": "code",
   "execution_count": 18,
   "id": "be17f21a-0918-4295-853e-cc634f0ab2ff",
   "metadata": {},
   "outputs": [
    {
     "name": "stdin",
     "output_type": "stream",
     "text": [
      "Enter Restaurant Name Hello\n"
     ]
    },
    {
     "name": "stdout",
     "output_type": "stream",
     "text": [
      "Enter Correct Restaurant Name .\n",
      "\n",
      "\n"
     ]
    },
    {
     "data": {
      "text/plain": [
       "'No Similar Restaurants Found!'"
      ]
     },
     "execution_count": 18,
     "metadata": {},
     "output_type": "execute_result"
    }
   ],
   "source": [
    "\n",
    "import pandas as pd\n",
    "from sklearn.tree import DecisionTreeClassifier\n",
    "import warnings\n",
    "\n",
    "warnings.filterwarnings('ignore')\n",
    "df = pd.read_csv(\"reviews.csv\");\n",
    "##df.isna().sum()\n",
    "##df.duplicated()\n",
    "\n",
    "X = df.drop(columns=['Name','Overall_Rating','Cuisine','Rate for two','City','Review'])\n",
    "y = df.drop(columns=['Index','Name','Cuisine','Rate for two'])\n",
    "\n",
    "Restaurant = input(\"Enter Restaurant Name\")\n",
    "ind = df[df['Name'] == Restaurant].index\n",
    "\n",
    "model = DecisionTreeClassifier()\n",
    "model.fit(X,y)\n",
    "arr=ind.tolist()\n",
    "new_city=''\n",
    "new_rating = 0.0;\n",
    "is_present=True;\n",
    "if(len(arr)==0):\n",
    "    is_present=False;\n",
    "    print(\"Enter Correct Restaurant Name .\")\n",
    "\n",
    "else:\n",
    "    print(\"The Reviews of \"+Restaurant+\" are :\")\n",
    "    for i in arr:\n",
    "        prediction = model.predict([[i]])\n",
    "        new_city=prediction[0][1]\n",
    "        new_rating=prediction[0][0]\n",
    "        print(\"➤\"+prediction[0][2])\n",
    "\n",
    "\n",
    "# print(city)\n",
    "# print(new_rating)\n",
    "low=0\n",
    "if(float(new_rating))>0:\n",
    "    low=float(new_rating)-float(0.5)\n",
    "    \n",
    "high=float(new_rating)+float(0.5)\n",
    "\n",
    "# X1 = df.drop(columns=['Name','Cuisine','Rate for two','Review'])\n",
    "y1 = df.drop(columns=['Index','Rate for two'])\n",
    "\n",
    "index1 = df[df['City'] == new_city].index\n",
    "model.fit(X,y1)\n",
    "\n",
    "def is_float(element: any) -> bool:\n",
    "    #If you expect None to be passed:\n",
    "    if element is None: \n",
    "        return False\n",
    "    try:\n",
    "        float(element)\n",
    "        return True\n",
    "    except ValueError:\n",
    "        return False\n",
    "\n",
    "print(\"\\n\")\n",
    "\n",
    "arr1=index1.tolist()\n",
    "dict = {\n",
    "\t'Name': [],\n",
    "\t'Ratings': [],\n",
    "\t'Cusines': [],\n",
    "    'Reviews':[]\n",
    "};\n",
    "if(is_present):\n",
    "    print(\"Similar Restaurants are also available : \")\n",
    "    for i in arr1:\n",
    "        predictions = model.predict([[i]])\n",
    "        if(is_float(predictions[0][1]) and float(predictions[0][1])>low and float(predictions[0][1])<high):\n",
    "            dict['Name'].append(predictions[0][0]);\n",
    "            dict['Ratings'].append(predictions[0][1]);\n",
    "            dict['Cusines'].append(predictions[0][2]);\n",
    "            dict['Reviews'].append(predictions[0][4]);\n",
    "             \n",
    "         # print(predictions)\n",
    "\n",
    "New_Transformed = \"No Similar Restaurants Found!\"\n",
    "if(is_present):\n",
    "    Transformed=pd.DataFrame(dict)\n",
    "    New_Transformed=Transformed.drop_duplicates(subset=\"Name\")\n",
    "\n",
    "New_Transformed"
   ]
  },
  {
   "cell_type": "code",
   "execution_count": null,
   "id": "fe0c418a-84c4-4a1c-b779-9d1c05498ae4",
   "metadata": {},
   "outputs": [],
   "source": []
  }
 ],
 "metadata": {
  "kernelspec": {
   "display_name": "Python 3 (ipykernel)",
   "language": "python",
   "name": "python3"
  },
  "language_info": {
   "codemirror_mode": {
    "name": "ipython",
    "version": 3
   },
   "file_extension": ".py",
   "mimetype": "text/x-python",
   "name": "python",
   "nbconvert_exporter": "python",
   "pygments_lexer": "ipython3",
   "version": "3.8.2"
  }
 },
 "nbformat": 4,
 "nbformat_minor": 5
}
